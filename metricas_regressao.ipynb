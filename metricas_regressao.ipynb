{
 "cells": [
  {
   "cell_type": "markdown",
   "metadata": {},
   "source": [
    "# Métricas de Regressão\n"
   ]
  },
  {
   "cell_type": "code",
   "execution_count": 1,
   "metadata": {},
   "outputs": [],
   "source": [
    "import numpy as np\n",
    "import math"
   ]
  },
  {
   "cell_type": "code",
   "execution_count": 2,
   "metadata": {},
   "outputs": [
    {
     "data": {
      "text/latex": [
       "mean absolute error\n",
       "\\begin{align}\n",
       "\n",
       "MAE = \\frac{1}{n}\\sum_{i=1}^{n}|y_i - ypred_i|\n",
       "\n",
       "\\end{align}\n",
       "    \n"
      ],
      "text/plain": [
       "<IPython.core.display.Latex object>"
      ]
     },
     "metadata": {},
     "output_type": "display_data"
    }
   ],
   "source": [
    "%%latex\n",
    "mean absolute error\n",
    "\\begin{align}\n",
    "\n",
    "MAE = \\frac{1}{n}\\sum_{i=1}^{n}|y_i - ypred_i|\n",
    "\n",
    "\\end{align}\n",
    "    "
   ]
  },
  {
   "cell_type": "code",
   "execution_count": 3,
   "metadata": {},
   "outputs": [],
   "source": [
    "def mae(y , y_pred):\n",
    "    return (np.sum(abs(np.array(y) - np.array(y_pred))))/len(y)"
   ]
  },
  {
   "cell_type": "code",
   "execution_count": 4,
   "metadata": {},
   "outputs": [
    {
     "data": {
      "text/plain": [
       "2.5"
      ]
     },
     "execution_count": 4,
     "metadata": {},
     "output_type": "execute_result"
    }
   ],
   "source": [
    "y      = [1,2,3,4,5,6,7,8,9,10]\n",
    "y_pred = [0,2,0,4,0,6,0,8,0,10]\n",
    "\n",
    "mae(y,y_pred)"
   ]
  },
  {
   "cell_type": "code",
   "execution_count": 5,
   "metadata": {},
   "outputs": [
    {
     "data": {
      "text/latex": [
       "mean square error\n",
       "\\begin{align}\n",
       "\n",
       "MSE = \\frac{1}{n}\\sum_{i=1}^{n}(y_i - ypred_i)²\n",
       "\n",
       "\\end{align}\n"
      ],
      "text/plain": [
       "<IPython.core.display.Latex object>"
      ]
     },
     "metadata": {},
     "output_type": "display_data"
    }
   ],
   "source": [
    "%%latex\n",
    "mean square error\n",
    "\\begin{align}\n",
    "\n",
    "MSE = \\frac{1}{n}\\sum_{i=1}^{n}(y_i - ypred_i)²\n",
    "\n",
    "\\end{align}"
   ]
  },
  {
   "cell_type": "code",
   "execution_count": 6,
   "metadata": {},
   "outputs": [],
   "source": [
    "def mse(y, y_pred):\n",
    "    return (np.sum((np.array(y) - np.array(y_pred))**2))/len(y)"
   ]
  },
  {
   "cell_type": "code",
   "execution_count": 7,
   "metadata": {},
   "outputs": [
    {
     "data": {
      "text/plain": [
       "16.5"
      ]
     },
     "execution_count": 7,
     "metadata": {},
     "output_type": "execute_result"
    }
   ],
   "source": [
    "mse(y,y_pred)"
   ]
  },
  {
   "cell_type": "code",
   "execution_count": 8,
   "metadata": {},
   "outputs": [
    {
     "data": {
      "text/latex": [
       "root mean square error\n",
       "\\begin{align}\n",
       "\n",
       "RMSE = \\sqrt{\\frac{1}{n}\\sum_{i=1}^{n}(y_i - ypred_i)²}\n",
       "\n",
       "\\end{align}\n"
      ],
      "text/plain": [
       "<IPython.core.display.Latex object>"
      ]
     },
     "metadata": {},
     "output_type": "display_data"
    }
   ],
   "source": [
    "%%latex\n",
    "root mean square error\n",
    "\\begin{align}\n",
    "\n",
    "RMSE = \\sqrt{\\frac{1}{n}\\sum_{i=1}^{n}(y_i - ypred_i)²}\n",
    "\n",
    "\\end{align}"
   ]
  },
  {
   "cell_type": "code",
   "execution_count": 9,
   "metadata": {},
   "outputs": [],
   "source": [
    "def rmse(y, y_pred):\n",
    "    return math.sqrt((np.sum((np.array(y) - np.array(y_pred))**2))/len(y))"
   ]
  },
  {
   "cell_type": "code",
   "execution_count": 10,
   "metadata": {},
   "outputs": [
    {
     "data": {
      "text/plain": [
       "4.06201920231798"
      ]
     },
     "execution_count": 10,
     "metadata": {},
     "output_type": "execute_result"
    }
   ],
   "source": [
    "rmse(y, y_pred)"
   ]
  },
  {
   "cell_type": "code",
   "execution_count": 11,
   "metadata": {},
   "outputs": [
    {
     "data": {
      "text/latex": [
       "mean absolute percentage error\n",
       "\\begin{align}\n",
       "\n",
       "MAPE = \\frac{100}{n}\\sum_{i=1}^{n} \\left|\\frac{y_i - ypred_i}{y_i}\\right|\n",
       "\n",
       "\\end{align}\n"
      ],
      "text/plain": [
       "<IPython.core.display.Latex object>"
      ]
     },
     "metadata": {},
     "output_type": "display_data"
    }
   ],
   "source": [
    "%%latex\n",
    "mean absolute percentage error\n",
    "\\begin{align}\n",
    "\n",
    "MAPE = \\frac{100}{n}\\sum_{i=1}^{n} \\left|\\frac{y_i - ypred_i}{y_i}\\right|\n",
    "\n",
    "\\end{align}"
   ]
  },
  {
   "cell_type": "code",
   "execution_count": 12,
   "metadata": {},
   "outputs": [],
   "source": [
    "def mape(y, y_pred):\n",
    "     return (100/len(y)) * np.sum(np.divide(np.array(y) - np.array(y_pred),np.array(y)))"
   ]
  },
  {
   "cell_type": "code",
   "execution_count": 13,
   "metadata": {},
   "outputs": [
    {
     "data": {
      "text/plain": [
       "50.0"
      ]
     },
     "execution_count": 13,
     "metadata": {},
     "output_type": "execute_result"
    }
   ],
   "source": [
    "mape(y,y_pred)"
   ]
  },
  {
   "cell_type": "code",
   "execution_count": null,
   "metadata": {},
   "outputs": [],
   "source": []
  }
 ],
 "metadata": {
  "kernelspec": {
   "display_name": "Python 3",
   "language": "python",
   "name": "python3"
  },
  "language_info": {
   "codemirror_mode": {
    "name": "ipython",
    "version": 3
   },
   "file_extension": ".py",
   "mimetype": "text/x-python",
   "name": "python",
   "nbconvert_exporter": "python",
   "pygments_lexer": "ipython3",
   "version": "3.7.2"
  }
 },
 "nbformat": 4,
 "nbformat_minor": 2
}
