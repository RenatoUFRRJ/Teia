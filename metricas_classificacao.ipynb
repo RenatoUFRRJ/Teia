{
 "cells": [
  {
   "cell_type": "markdown",
   "metadata": {},
   "source": [
    "# Metricas de classificação"
   ]
  },
  {
   "cell_type": "code",
   "execution_count": 1,
   "metadata": {},
   "outputs": [],
   "source": [
    "import numpy as np\n",
    "import math\n",
    "from sklearn.metrics import classification_report\n",
    "\n",
    "y_real = [0,1,0,0,1,0,1,1,1,1]\n",
    "y_pred = [0,0,0,0,1,1,1,1,1,1]"
   ]
  },
  {
   "cell_type": "code",
   "execution_count": 2,
   "metadata": {},
   "outputs": [
    {
     "data": {
      "text/latex": [
       "Acurácia\n",
       "\n",
       "\\begin{align}\n",
       "acuracia = \\frac{TP + TN}{TP + TN + FP + FN} = \\frac {\\sum{True Positive}}{\\sum{Total Populacao}}\n",
       "\\end{align}\n"
      ],
      "text/plain": [
       "<IPython.core.display.Latex object>"
      ]
     },
     "metadata": {},
     "output_type": "display_data"
    }
   ],
   "source": [
    "%%latex\n",
    "Acurácia\n",
    "\n",
    "\\begin{align}\n",
    "acuracia = \\frac{TP + TN}{TP + TN + FP + FN} = \\frac {\\sum{True Positive}}{\\sum{Total Populacao}}\n",
    "\\end{align}"
   ]
  },
  {
   "cell_type": "code",
   "execution_count": 3,
   "metadata": {},
   "outputs": [],
   "source": [
    "def acuracia(y_real,y_pred):\n",
    "    tp = 0\n",
    "    tn = 0\n",
    "    fp = 0\n",
    "    fn = 0\n",
    "    \n",
    "    for i in range(len(y_real)):\n",
    "        if y_real[i] == 1 and y_pred[i] == y_real[i]:\n",
    "            tp = tp + 1\n",
    "        if y_real[i] == 0 and y_pred[i] == y_real[i]:\n",
    "            tn = tn + 1\n",
    "        if y_real[i] == 1 and y_pred[i] != y_real[i]:\n",
    "            fn = fn + 1\n",
    "        if y_real[i] == 0 and y_pred[i] != y_real[i]:\n",
    "            fp = fp + 1\n",
    "            \n",
    "    return (tp + tn)/(tp + tn + fp + fn)"
   ]
  },
  {
   "cell_type": "code",
   "execution_count": 4,
   "metadata": {},
   "outputs": [
    {
     "data": {
      "text/plain": [
       "0.8"
      ]
     },
     "execution_count": 4,
     "metadata": {},
     "output_type": "execute_result"
    }
   ],
   "source": [
    "acuracia(y_real, y_pred)"
   ]
  },
  {
   "cell_type": "code",
   "execution_count": 5,
   "metadata": {},
   "outputs": [
    {
     "data": {
      "text/latex": [
       "Recall\n",
       "\n",
       "\\begin{align}\n",
       "R = \\frac{TP}{TP + FN}\n",
       "\\hspace{0.2cm}\n",
       "\n",
       "\\end{align}\n"
      ],
      "text/plain": [
       "<IPython.core.display.Latex object>"
      ]
     },
     "metadata": {},
     "output_type": "display_data"
    }
   ],
   "source": [
    "%%latex\n",
    "Recall\n",
    "\n",
    "\\begin{align}\n",
    "R = \\frac{TP}{TP + FN}\n",
    "\\hspace{0.2cm}\n",
    "\n",
    "\\end{align}"
   ]
  },
  {
   "cell_type": "code",
   "execution_count": 6,
   "metadata": {},
   "outputs": [],
   "source": [
    "def recall(y_real, y_pred):\n",
    "    tp = 0\n",
    "    tn = 0\n",
    "    fp = 0\n",
    "    fn = 0\n",
    "    \n",
    "    for i in range(len(y_real)):\n",
    "        if y_real[i] == 1 and y_pred[i] == y_real[i]:\n",
    "            tp = tp + 1\n",
    "        if y_real[i] == 0 and y_pred[i] == y_real[i]:\n",
    "            tn = tn + 1\n",
    "        if y_real[i] == 1 and y_pred[i] != y_real[i]:\n",
    "            fn = fn + 1\n",
    "        if y_real[i] == 0 and y_pred[i] != y_real[i]:\n",
    "            fp = fp + 1\n",
    "            \n",
    "    return tp /(tp + fn)"
   ]
  },
  {
   "cell_type": "code",
   "execution_count": 7,
   "metadata": {},
   "outputs": [
    {
     "data": {
      "text/plain": [
       "0.8333333333333334"
      ]
     },
     "execution_count": 7,
     "metadata": {},
     "output_type": "execute_result"
    }
   ],
   "source": [
    "recall(y_real,y_pred)"
   ]
  },
  {
   "cell_type": "code",
   "execution_count": 8,
   "metadata": {},
   "outputs": [
    {
     "data": {
      "text/latex": [
       "precisao\n",
       "\n",
       "\\begin{align}\n",
       " P = \\frac{TP}{TP + FP}\n",
       "\n",
       "\\end{align}\n"
      ],
      "text/plain": [
       "<IPython.core.display.Latex object>"
      ]
     },
     "metadata": {},
     "output_type": "display_data"
    }
   ],
   "source": [
    "%%latex\n",
    "precisao\n",
    "\n",
    "\\begin{align}\n",
    " P = \\frac{TP}{TP + FP}\n",
    "\n",
    "\\end{align}"
   ]
  },
  {
   "cell_type": "code",
   "execution_count": 9,
   "metadata": {},
   "outputs": [],
   "source": [
    "def precisao(y_real, y_pred):\n",
    "    tp = 0\n",
    "    tn = 0\n",
    "    fp = 0\n",
    "    fn = 0\n",
    "    \n",
    "    for i in range(len(y_real)):\n",
    "        if y_real[i] == 1 and y_pred[i] == y_real[i]:\n",
    "            tp = tp + 1\n",
    "        if y_real[i] == 0 and y_pred[i] == y_real[i]:\n",
    "            tn = tn + 1\n",
    "        if y_real[i] == 1 and y_pred[i] != y_real[i]:\n",
    "            fn = fn + 1\n",
    "        if y_real[i] == 0 and y_pred[i] != y_real[i]:\n",
    "            fp = fp + 1\n",
    "            \n",
    "    return tp /(tp + fp)"
   ]
  },
  {
   "cell_type": "code",
   "execution_count": 10,
   "metadata": {},
   "outputs": [
    {
     "data": {
      "text/plain": [
       "0.8333333333333334"
      ]
     },
     "execution_count": 10,
     "metadata": {},
     "output_type": "execute_result"
    }
   ],
   "source": [
    "precisao(y_real, y_pred)"
   ]
  },
  {
   "cell_type": "code",
   "execution_count": 11,
   "metadata": {},
   "outputs": [
    {
     "data": {
      "text/latex": [
       "F1\n",
       "\n",
       "\\begin{align}\n",
       "F_1= \\frac{2}{\\frac{1}{R} + \\frac{1}{P}} = \\frac{2 PR}{P + R} \\hspace{0.2cm} , \\hspace{0.5cm} onde \\hspace{0.2cm}R = \\frac{TP}{TP + FN}\n",
       "\\hspace{0.2cm} e \\hspace{0.2cm} P = \\frac{TP}{TP + FP}\n",
       "\n",
       "\\end{align}\n"
      ],
      "text/plain": [
       "<IPython.core.display.Latex object>"
      ]
     },
     "metadata": {},
     "output_type": "display_data"
    }
   ],
   "source": [
    "%%latex\n",
    "F1\n",
    "\n",
    "\\begin{align}\n",
    "F_1= \\frac{2}{\\frac{1}{R} + \\frac{1}{P}} = \\frac{2 PR}{P + R} \\hspace{0.2cm} , \\hspace{0.5cm} onde \\hspace{0.2cm}R = \\frac{TP}{TP + FN}\n",
    "\\hspace{0.2cm} e \\hspace{0.2cm} P = \\frac{TP}{TP + FP}\n",
    "\n",
    "\\end{align}"
   ]
  },
  {
   "cell_type": "code",
   "execution_count": 12,
   "metadata": {},
   "outputs": [],
   "source": [
    "def f1(y_real, y_pred):\n",
    "   \n",
    "    p = precisao(y_real, y_pred)\n",
    "    r = recall(y_real, y_pred)\n",
    "    \n",
    "    return (2*p*r)/(p+r)"
   ]
  },
  {
   "cell_type": "code",
   "execution_count": 13,
   "metadata": {},
   "outputs": [
    {
     "data": {
      "text/plain": [
       "0.8333333333333334"
      ]
     },
     "execution_count": 13,
     "metadata": {},
     "output_type": "execute_result"
    }
   ],
   "source": [
    "f1(y_real, y_pred)"
   ]
  },
  {
   "cell_type": "code",
   "execution_count": 14,
   "metadata": {},
   "outputs": [
    {
     "data": {
      "text/latex": [
       "Macro F1\n",
       "\n",
       "\\begin{align}\n",
       "Macro \\hspace{0.1cm} F_1 = \\frac{2 P´R´}{P´ + R´} \\hspace{0.5cm}, \\hspace{0.2cm}onde P´ = \\frac{P_{c0} + P_{c1}}{2} \\hspace{0.5cm}e \n",
       "\\hspace{0.5cm} R´= \\frac{R_{c0} + R_{c1}}{2}\n",
       "\n",
       "\\end{align}\n"
      ],
      "text/plain": [
       "<IPython.core.display.Latex object>"
      ]
     },
     "metadata": {},
     "output_type": "display_data"
    }
   ],
   "source": [
    "%%latex\n",
    "Macro F1\n",
    "\n",
    "\\begin{align}\n",
    "Macro \\hspace{0.1cm} F_1 = \\frac{2 P´R´}{P´ + R´} \\hspace{0.5cm}, \\hspace{0.2cm}onde P´ = \\frac{P_{c0} + P_{c1}}{2} \\hspace{0.5cm}e \n",
    "\\hspace{0.5cm} R´= \\frac{R_{c0} + R_{c1}}{2}\n",
    "\n",
    "\\end{align}"
   ]
  },
  {
   "cell_type": "code",
   "execution_count": 15,
   "metadata": {},
   "outputs": [],
   "source": [
    "def macroF1(y_real, y_pred):\n",
    "    \n",
    "    tp = 0\n",
    "    tn = 0\n",
    "    fp = 0\n",
    "    fn = 0\n",
    "    \n",
    "    for i in range(len(y_real)):\n",
    "        if y_real[i] == 1 and y_pred[i] == y_real[i]:\n",
    "            tp = tp + 1\n",
    "        if y_real[i] == 0 and y_pred[i] == y_real[i]:\n",
    "            tn = tn + 1\n",
    "        if y_real[i] == 1 and y_pred[i] != y_real[i]:\n",
    "            fn = fn + 1\n",
    "        if y_real[i] == 0 and y_pred[i] != y_real[i]:\n",
    "            fp = fp + 1\n",
    "\n",
    "    p = precisao(y_real, y_pred)\n",
    "    r = recall(y_real, y_pred)\n",
    "    \n",
    "    np = tn/(tn + fn)\n",
    "    nr =  tn /(tn + fp)\n",
    "    \n",
    "    plinha = (p + np)/2\n",
    "    rlinha = (r + nr)/2\n",
    "    \n",
    "    return (2*plinha*rlinha)/(plinha+rlinha)\n",
    "    "
   ]
  },
  {
   "cell_type": "code",
   "execution_count": 16,
   "metadata": {},
   "outputs": [
    {
     "data": {
      "text/plain": [
       "0.7916666666666667"
      ]
     },
     "execution_count": 16,
     "metadata": {},
     "output_type": "execute_result"
    }
   ],
   "source": [
    "macroF1(y_real, y_pred)"
   ]
  },
  {
   "cell_type": "code",
   "execution_count": 17,
   "metadata": {},
   "outputs": [
    {
     "data": {
      "text/latex": [
       "MCC\n",
       "\n",
       "\\begin{align}\n",
       "MCC = \\frac{TP * TN - FP * FN}{\\sqrt{(TP+FP)(TP+FN)(TN+FP) + (TN+FN)}} \n",
       "\n",
       "\\end{align}\n"
      ],
      "text/plain": [
       "<IPython.core.display.Latex object>"
      ]
     },
     "metadata": {},
     "output_type": "display_data"
    }
   ],
   "source": [
    "%%latex\n",
    "MCC\n",
    "\n",
    "\\begin{align}\n",
    "MCC = \\frac{TP * TN - FP * FN}{\\sqrt{(TP+FP)(TP+FN)(TN+FP) + (TN+FN)}} \n",
    "\n",
    "\\end{align}"
   ]
  },
  {
   "cell_type": "code",
   "execution_count": 18,
   "metadata": {},
   "outputs": [],
   "source": [
    "def mcc(y_real, y_pred):\n",
    "    tp = 0\n",
    "    tn = 0\n",
    "    fp = 0\n",
    "    fn = 0\n",
    "    \n",
    "    for i in range(len(y_real)):\n",
    "        if y_real[i] == 1 and y_pred[i] == y_real[i]:\n",
    "            tp = tp + 1\n",
    "        if y_real[i] == 0 and y_pred[i] == y_real[i]:\n",
    "            tn = tn + 1\n",
    "        if y_real[i] == 1 and y_pred[i] != y_real[i]:\n",
    "            fn = fn + 1\n",
    "        if y_real[i] == 0 and y_pred[i] != y_real[i]:\n",
    "            fp = fp + 1\n",
    "    den =  math.sqrt((tp + fp)*(tp + fn)*(tn + fp)*(tn + fn))     \n",
    "    if den == 0:\n",
    "        den = 1\n",
    "    return (tp*tn - fp*fn)/den"
   ]
  },
  {
   "cell_type": "code",
   "execution_count": 19,
   "metadata": {},
   "outputs": [
    {
     "data": {
      "text/plain": [
       "0.5833333333333334"
      ]
     },
     "execution_count": 19,
     "metadata": {},
     "output_type": "execute_result"
    }
   ],
   "source": [
    "mcc(y_real, y_pred)"
   ]
  },
  {
   "cell_type": "code",
   "execution_count": 20,
   "metadata": {},
   "outputs": [],
   "source": [
    "def matriz_confusao(y_real, y_pred):\n",
    "    \n",
    "    tp = 0\n",
    "    tn = 0\n",
    "    fp = 0\n",
    "    fn = 0\n",
    "    \n",
    "    for i in range(len(y_real)):\n",
    "        if y_real[i] == 1 and y_pred[i] == y_real[i]:\n",
    "            tp = tp + 1\n",
    "        if y_real[i] == 0 and y_pred[i] == y_real[i]:\n",
    "            tn = tn + 1\n",
    "        if y_real[i] == 1 and y_pred[i] != y_real[i]:\n",
    "            fn = fn + 1\n",
    "        if y_real[i] == 0 and y_pred[i] != y_real[i]:\n",
    "            fp = fp + 1\n",
    "    \n",
    "    mat = [['real/pred',1,0],[1,tp,fp],[0,fn,tn]]\n",
    "    \n",
    "    print('\\t\\t\\t\\t','P','\\t\\tF')\n",
    "    print('     ',mat[0][0],'\\t|\\t',mat[0][1],'\\t|\\t',mat[0][2])\n",
    "    print('P      ',mat[1][0],'\\t\\t|\\t',mat[1][1],'\\t|\\t',mat[1][2])\n",
    "    print('F      ',mat[2][0],'\\t\\t|\\t',mat[2][1],'\\t|\\t',mat[2][2])\n",
    "\n"
   ]
  },
  {
   "cell_type": "code",
   "execution_count": 21,
   "metadata": {},
   "outputs": [
    {
     "name": "stdout",
     "output_type": "stream",
     "text": [
      "\t\t\t\t P \t\tF\n",
      "      real/pred \t|\t 1 \t|\t 0\n",
      "P       1 \t\t|\t 5 \t|\t 1\n",
      "F       0 \t\t|\t 1 \t|\t 3\n"
     ]
    }
   ],
   "source": [
    "matriz_confusao(y_real, y_pred)"
   ]
  },
  {
   "cell_type": "code",
   "execution_count": null,
   "metadata": {},
   "outputs": [],
   "source": []
  }
 ],
 "metadata": {
  "kernelspec": {
   "display_name": "Python 3",
   "language": "python",
   "name": "python3"
  },
  "language_info": {
   "codemirror_mode": {
    "name": "ipython",
    "version": 3
   },
   "file_extension": ".py",
   "mimetype": "text/x-python",
   "name": "python",
   "nbconvert_exporter": "python",
   "pygments_lexer": "ipython3",
   "version": "3.7.2"
  }
 },
 "nbformat": 4,
 "nbformat_minor": 2
}
