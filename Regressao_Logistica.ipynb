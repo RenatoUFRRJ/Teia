{
 "cells": [
  {
   "cell_type": "code",
   "execution_count": 1,
   "metadata": {},
   "outputs": [],
   "source": [
    "from sklearn.base import BaseEstimator\n",
    "import matplotlib.pyplot as plt\n",
    "import numpy as np\n",
    "import sklearn.datasets\n"
   ]
  },
  {
   "cell_type": "code",
   "execution_count": 2,
   "metadata": {},
   "outputs": [],
   "source": [
    "def sigmoid(z): #hipotese\n",
    "        \n",
    "        res = 1 / (1 + np.exp(-z))\n",
    "        return res\n",
    "\n",
    "def custo(X,y,w): #funcao de custo\n",
    "    \n",
    "        parte1 = np.multiply(-y , np.log(sigmoid(np.dot(X , w))))\n",
    "        parte2 = np.multiply((1 - y)  ,  np.log(1 - sigmoid(np.dot(X,w))))\n",
    "        res =   np.sum(parte1 - parte2)\n",
    "       \n",
    "        return res/len(X)\n",
    "    \n",
    "def gradiente(w,X,y,alfa,n_inter):\n",
    "        n = np.zeros(n_inter)\n",
    "        xi = []\n",
    "        for i in X:\n",
    "            xi.append(i[1])\n",
    "        \n",
    "        for i in range(n_inter):\n",
    "            w -= (alfa / len(X)) * np.sum((sigmoid(np.dot(X,w)) - y)*X,axis = 0)\n",
    "        \n",
    "            n[i] = custo(X,y,w)\n",
    "        \n",
    "        return w,n\n",
    "    \n",
    "def predict_probs(X, w):\n",
    "        \n",
    "        return sigmoid(np.dot(X, w))\n",
    "    "
   ]
  },
  {
   "cell_type": "code",
   "execution_count": 3,
   "metadata": {},
   "outputs": [],
   "source": [
    "class LMSTrainer(BaseEstimator):\n",
    "    \n",
    "    def __init__(self, analitic=False):\n",
    "            \n",
    "            self.analitic = analitic\n",
    "            self._trained = False\n",
    "            self.a = 0.\n",
    "            self.b = 0.  \n",
    "            self.coef_ = [0.,0.]\n",
    "            self.taxa_gradiente = []\n",
    "            self.n_inter = 0\n",
    "    \n",
    "    def fit(self, X, y=None,max_interacao = 10000,alfa = 0.00001):\n",
    "        \n",
    "        if self.analitic:\n",
    "            \n",
    "          # TODO: FAZER POR MATRIZES\n",
    "            pass\n",
    "        else:\n",
    "           \n",
    "          # TODO: FAZERPELO GRADIENTE DESCENDETE \n",
    "            teta1 = 0.\n",
    "            teta0 = 0.\n",
    "\n",
    "            gradiente = 0.\n",
    "            xi = []\n",
    "            for i in X:\n",
    "                xi.append(i[1])\n",
    "            \n",
    "            for _ in range(max_interacao):\n",
    "        \n",
    "                \n",
    "                gradiente =  np.sum((sigmoid(np.dot(X,self.coef_)) - y)*xi)\n",
    "                \n",
    "                teta0 -= alfa*(np.sum((sigmoid(np.dot(X,self.coef_)) - y)))\n",
    "                teta1 -= alfa*gradiente\n",
    "    \n",
    "                \n",
    "                self.taxa_gradiente.append(abs(gradiente))\n",
    "                self.coef_[0] = teta0\n",
    "                self.coef_[1] = teta1\n",
    "                  \n",
    "                '''gradiente = 0\n",
    "                for xi,yi in zip(X,y):\n",
    "                    derivada1 = custo(xi,yi,[teta0,teta1]) * xi[1]\n",
    "                    derivada0 = custo(xi,yi,[teta0,teta1])\n",
    "                    #self.taxa_gradiente.append(derivada0)\n",
    "                    teta1 = teta1 - (alfa/len(y))*derivada1\n",
    "                    teta0 = teta0 - (alfa/len(y))*derivada0\n",
    "                    gradiente = derivada0\n",
    "                '''\n",
    "            \n",
    "               # teta0 = 0.\n",
    "               # teta1 = 0.\n",
    "              #  z = np.dot(X, self.coef_)\n",
    "               # h = sigmoid(z)\n",
    "               # gradient = np.dot(xi, (h - y)) / y.size\n",
    "               # teta0 -= alfa * gradient\n",
    "               # teta1 -= alfa * gradient \n",
    "                \n",
    "                self.n_inter += 1\n",
    "                \n",
    "            pass\n",
    "    \n",
    "        self._trained = True\n",
    "        \n",
    "        self.a = teta1\n",
    "        self.b = teta0\n",
    "        self.coef_[0] = teta0\n",
    "        self.coef_[1] = teta1\n",
    "        \n",
    "        return self       \n",
    "\n",
    "    def predict(self, X, teta, threshold=0.5):\n",
    "        \n",
    "        if not self._trained:\n",
    "           raise RuntimeError(\"You must train classifer before predicting data!\")\n",
    "        \n",
    "        \n",
    "        return predict_probs(X, teta) >= threshold"
   ]
  },
  {
   "cell_type": "code",
   "execution_count": 152,
   "metadata": {},
   "outputs": [],
   "source": [
    "X_train = [[1,10],[1,11],[1,12],[1,13],[1,14],[1,15],\n",
    "           [1,16],[1,17],[1,18],[1,19],[1,20],[1,21],\n",
    "           [1,22],[1,23],[1,24],[1,25],[1,26],[1,27],\n",
    "           [1,28],[1,31],[1,34],[1,38],[1,41],[1,43],\n",
    "           [1,45],[1,48],[1,50],[1,51],[1,53],[1,55]  ]\n",
    "y_train = [0,0,0,0,0,0,0,0,0,1,0,0,0,1,1,0,0,1,1,1,1,1,1,1,1,0,1,0,1,0]\n",
    "X_test  = X_train\n",
    "\n",
    "\n",
    "iris = sklearn.datasets.load_iris()\n",
    "X = iris.data[:, :2]\n",
    "y = (iris.target != 0) * 1\n",
    "\n",
    "\n",
    "trainer = LMSTrainer()\n",
    "predictor = trainer.fit(X_train,y_train,100000,0.000001)\n"
   ]
  },
  {
   "cell_type": "code",
   "execution_count": 153,
   "metadata": {},
   "outputs": [
    {
     "data": {
      "text/plain": [
       "array([False, False, False, False, False, False, False, False, False,\n",
       "       False, False, False, False,  True,  True,  True,  True,  True,\n",
       "        True,  True,  True,  True,  True,  True,  True,  True,  True,\n",
       "        True,  True,  True])"
      ]
     },
     "execution_count": 153,
     "metadata": {},
     "output_type": "execute_result"
    }
   ],
   "source": [
    "y_pred = predictor.predict(X_train,trainer.coef_)\n",
    "\n",
    "xi = []\n",
    "for i in (X_train):\n",
    "    xi.append(i[1])  \n",
    "\n",
    "y_pred"
   ]
  },
  {
   "cell_type": "code",
   "execution_count": 154,
   "metadata": {},
   "outputs": [
    {
     "data": {
      "text/plain": [
       "array([0.55998632])"
      ]
     },
     "execution_count": 154,
     "metadata": {},
     "output_type": "execute_result"
    }
   ],
   "source": [
    "t = [[1,43]]\n",
    "sigmoid(np.dot(t , trainer.coef_))\n",
    "\n",
    "predict_probs(t,trainer.coef_)"
   ]
  },
  {
   "cell_type": "code",
   "execution_count": 155,
   "metadata": {},
   "outputs": [
    {
     "data": {
      "text/plain": [
       "array([ True])"
      ]
     },
     "execution_count": 155,
     "metadata": {},
     "output_type": "execute_result"
    }
   ],
   "source": [
    "trainer.predict(t,trainer.coef_)"
   ]
  },
  {
   "cell_type": "code",
   "execution_count": 156,
   "metadata": {},
   "outputs": [
    {
     "data": {
      "image/png": "[encoded data removed]",
      "text/plain": [
       "<Figure size 1080x360 with 1 Axes>"
      ]
     },
     "metadata": {
      "needs_background": "light"
     },
     "output_type": "display_data"
    }
   ],
   "source": [
    "#print('Coefficients: \\n', trainer.coef_)\n",
    "plt.figure(figsize=(15,5))\n",
    "plt.scatter(xi,y_train,  color='black')\n",
    "plt.plot(xi, y_pred,color='red', linewidth=1)\n",
    "\n",
    "plt.xticks((xi))\n",
    "plt.yticks((y_train))\n",
    "\n",
    "plt.show()"
   ]
  },
  {
   "cell_type": "code",
   "execution_count": 157,
   "metadata": {},
   "outputs": [
    {
     "data": {
      "image/png": "[encoded data removed]",
      "text/plain": [
       "<Figure size 720x360 with 1 Axes>"
      ]
     },
     "metadata": {
      "needs_background": "light"
     },
     "output_type": "display_data"
    }
   ],
   "source": [
    "plt.figure(figsize=(10,5))\n",
    "plt.plot(np.arange(1, trainer.n_inter+1), trainer.taxa_gradiente, color='green')\n",
    "plt.title(\"Gradient descendent\")\n",
    "plt.ylabel(\"Custo\")\n",
    "plt.xlabel(\"Iteration\")\n",
    "plt.show()\n",
    "\n"
   ]
  },
  {
   "cell_type": "code",
   "execution_count": 158,
   "metadata": {},
   "outputs": [
    {
     "name": "stdout",
     "output_type": "stream",
     "text": [
      "              precision    recall  f1-score   support\n",
      "\n",
      "      class0       0.92      0.71      0.80        17\n",
      "      class1       0.71      0.92      0.80        13\n",
      "\n",
      "   micro avg       0.80      0.80      0.80        30\n",
      "   macro avg       0.81      0.81      0.80        30\n",
      "weighted avg       0.83      0.80      0.80        30\n",
      "\n"
     ]
    }
   ],
   "source": [
    "from sklearn.metrics import confusion_matrix\n",
    "from sklearn.metrics import classification_report\n",
    "\n",
    "targets = ['class0' , 'class1']\n",
    "print(classification_report(y_train, y_pred, target_names=targets))"
   ]
  },
  {
   "cell_type": "code",
   "execution_count": 159,
   "metadata": {},
   "outputs": [
    {
     "name": "stderr",
     "output_type": "stream",
     "text": [
      "c:\\users\\renat\\appdata\\local\\programs\\python\\python37-32\\lib\\site-packages\\sklearn\\linear_model\\logistic.py:433: FutureWarning: Default solver will be changed to 'lbfgs' in 0.22. Specify a solver to silence this warning.\n",
      "  FutureWarning)\n"
     ]
    }
   ],
   "source": [
    "from sklearn.linear_model import LogisticRegression\n",
    "clf = LogisticRegression(C=1.0, class_weight=None, dual=False, fit_intercept=True,\n",
    "          intercept_scaling=1, max_iter=50000, multi_class='warn',\n",
    "          n_jobs=None, penalty='l2', random_state=None, solver='warn',\n",
    "          tol=0.00001, verbose=0, warm_start=False)\n",
    "clf.fit(X_train, y_train)\n",
    "\n",
    "#clf = LogisticRegression(random_state=0, solver='lbfgs',multi_class='multinomial').fit(X_train, y_train)\n",
    "y_pred = clf.predict(X_train)"
   ]
  },
  {
   "cell_type": "code",
   "execution_count": 160,
   "metadata": {},
   "outputs": [
    {
     "name": "stdout",
     "output_type": "stream",
     "text": [
      "              precision    recall  f1-score   support\n",
      "\n",
      "      class0       0.70      0.82      0.76        17\n",
      "      class1       0.70      0.54      0.61        13\n",
      "\n",
      "   micro avg       0.70      0.70      0.70        30\n",
      "   macro avg       0.70      0.68      0.68        30\n",
      "weighted avg       0.70      0.70      0.69        30\n",
      "\n"
     ]
    }
   ],
   "source": [
    "print(classification_report(y_train, y_pred, target_names=targets))"
   ]
  },
  {
   "cell_type": "code",
   "execution_count": 161,
   "metadata": {},
   "outputs": [
    {
     "data": {
      "text/plain": [
       "array([[0.36577133, 0.63422867]])"
      ]
     },
     "execution_count": 161,
     "metadata": {},
     "output_type": "execute_result"
    }
   ],
   "source": [
    "clf.predict_proba(t)"
   ]
  }
 ],
 "metadata": {
  "kernelspec": {
   "display_name": "Python 3",
   "language": "python",
   "name": "python3"
  },
  "language_info": {
   "codemirror_mode": {
    "name": "ipython",
    "version": 3
   },
   "file_extension": ".py",
   "mimetype": "text/x-python",
   "name": "python",
   "nbconvert_exporter": "python",
   "pygments_lexer": "ipython3",
   "version": "3.7.2"
  }
 },
 "nbformat": 4,
 "nbformat_minor": 2
}
