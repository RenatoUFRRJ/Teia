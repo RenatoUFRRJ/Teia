{
 "cells": [
  {
   "cell_type": "markdown",
   "metadata": {},
   "source": [
    "# K-Means"
   ]
  },
  {
   "cell_type": "code",
   "execution_count": 1,
   "metadata": {},
   "outputs": [],
   "source": [
    "import numpy as np\n",
    "from random import *\n",
    "import matplotlib.pyplot as plt\n",
    "\n",
    "k = 4\n",
    "X = []\n",
    "for _ in range(30):\n",
    "    X.append([uniform(0,50),uniform(0,50)])\n",
    "\n",
    "#X = [[0,1],[2,3],[3,4],[5,2],[4,14],[6,0],[15,10],[11,10],[13,5],[10,4],[7,7],[7,0]]"
   ]
  },
  {
   "cell_type": "code",
   "execution_count": 2,
   "metadata": {},
   "outputs": [],
   "source": [
    "class meuKMeans:\n",
    "    \n",
    "    def __init__(self, k = 2, tol = 0.0001 , max_inter = 100):\n",
    "        self.k = k\n",
    "        self.tol = tol\n",
    "        self.n_inter = 0\n",
    "        self._centros = []\n",
    "        self.max_inter = max_inter\n",
    "        self.classes = {}\n",
    " \n",
    "\n",
    "    def fit(self, X):\n",
    "        \n",
    "        c = [] #centros\n",
    "        dist_xi = []\n",
    "     \n",
    "        for i in range (self.k): #centros iniciais aleatorios\n",
    "            \n",
    "            c.append([uniform(0,55), uniform(0,55)])\n",
    "            self.classes.setdefault(i+1,[])\n",
    "       # c = [[2,5],[0,0],[6,3]]\n",
    "        #self.classes.setdefault(1,[])\n",
    "       # self.classes.setdefault(2,[])\n",
    "        #self.classes.setdefault(3,[])\n",
    "        \n",
    "        for _ in range(self.max_inter):# centros alteram de acordo com a media\n",
    "            \n",
    "            for i in self.classes.keys():\n",
    "                self.classes[i].clear()\n",
    "                \n",
    "            \n",
    "           \n",
    "            for xi in X:\n",
    "                i = 0\n",
    "                aux = 0\n",
    "                dist_atual = 100000\n",
    "                dist = 100000\n",
    "                dist_classes = []\n",
    "                for ci in c:#para cada xi calcula se a distancia a cada centro\n",
    "                    dist_atual = np.sqrt(np.sum(np.subtract(xi,ci)**2))#distancia euclidiana\n",
    "                    #dist_atual = np.sum(np.abs(np.subtract(xi,ci)))\n",
    "                    #print(dist_atual)\n",
    "                    dist_classes.append(dist_atual)\n",
    "                    pos = 0\n",
    "                    menor = 10000000\n",
    "                    for j in range(len(dist_classes)):\n",
    "                        if menor > dist_classes[j]:\n",
    "                            menor = dist_classes[j]\n",
    "                            pos = j + 1;\n",
    "                    i = pos\n",
    "                    #print('ponto:',xi,' centro =',ci,'->',dist_atual,'  classe[',pos,']') \n",
    "                #print('---------------------------------------------------------')\n",
    "                    \n",
    "                self.classes[i].append(xi)\n",
    "                \n",
    "            #print(\"\\n\",self.classes)\n",
    "            for k in self.classes.keys() :\n",
    "                c[k-1] = [0,0]\n",
    "                for v in self.classes[k]:\n",
    "\n",
    "                    c[k-1] = np.add(c[k-1],v)\n",
    "                \n",
    "                if len(self.classes[k]) != 0:\n",
    "                    c[k-1] = c[k-1]/ np.array(len(self.classes[k]))\n",
    "                if len(self.classes[k]) == 0:\n",
    "                    c[k-1] = c[k-1]/ np.array(1)\n",
    "                #print('*',self.classes[k])\n",
    "                \n",
    "        self._centros = c\n",
    "           \n",
    "        pass  \n",
    "    \n",
    "    def predict(self, X):\n",
    "        \n",
    "        \n",
    "        return 0"
   ]
  },
  {
   "cell_type": "code",
   "execution_count": 3,
   "metadata": {},
   "outputs": [],
   "source": [
    "clf = meuKMeans(k = k , max_inter = 1000)\n",
    "clf.fit(X)"
   ]
  },
  {
   "cell_type": "code",
   "execution_count": 4,
   "metadata": {
    "scrolled": true
   },
   "outputs": [
    {
     "data": {
      "image/png": "[encoded data removed]",
      "text/plain": [
       "<Figure size 432x288 with 1 Axes>"
      ]
     },
     "metadata": {
      "needs_background": "light"
     },
     "output_type": "display_data"
    }
   ],
   "source": [
    "i = 0\n",
    "cores = {1:'black',2:'blue',3:'red',4:'green',5:'yellow',6:'pink',7:'gray',8:'purple'}\n",
    "\n",
    "for p in clf.classes.keys():\n",
    "    for x in clf.classes[p]:\n",
    "         plt.scatter(x[0],x[1],color = cores[p])\n",
    "            \n",
    "for i in range(len(clf._centros)):\n",
    "    plt.scatter(clf._centros[i][0],clf._centros[i][1],color = cores[1+i],marker = '*')\n",
    "    \n",
    "#plt.scatter(xi,yi,color = 'black')#'o', 'v', '^', '<', '>', '8', 's', 'p', '*', 'h', 'H', 'D', 'd', 'P', 'X'\n"
   ]
  },
  {
   "cell_type": "code",
   "execution_count": 5,
   "metadata": {},
   "outputs": [
    {
     "data": {
      "text/plain": [
       "[array([40.00296615, 10.44237591]),\n",
       " array([21.27244783, 38.4740511 ]),\n",
       " array([15.211507  , 12.42431181]),\n",
       " array([45.59000709, 35.40898708])]"
      ]
     },
     "execution_count": 5,
     "metadata": {},
     "output_type": "execute_result"
    }
   ],
   "source": [
    "clf._centros"
   ]
  },
  {
   "cell_type": "code",
   "execution_count": 6,
   "metadata": {},
   "outputs": [],
   "source": [
    "from sklearn.cluster import KMeans\n",
    "kmeans = KMeans(init='random'  ,n_clusters=k, random_state=0 , verbose=0).fit(X)"
   ]
  },
  {
   "cell_type": "code",
   "execution_count": 7,
   "metadata": {},
   "outputs": [],
   "source": [
    "import matplotlib.pyplot as plt\n",
    "xi,yi = [], []\n",
    "c1,c2 = [] , [] \n",
    "for i in (X):\n",
    "    xi.append(i[0])\n",
    "    yi.append(i[1])\n",
    "\n",
    "for i in kmeans.cluster_centers_:\n",
    "    c1.append(i[0])\n",
    "    c2.append(i[1])\n",
    " \n"
   ]
  },
  {
   "cell_type": "code",
   "execution_count": 8,
   "metadata": {},
   "outputs": [
    {
     "data": {
      "image/png": "[encoded data removed]",
      "text/plain": [
       "<Figure size 432x288 with 1 Axes>"
      ]
     },
     "metadata": {
      "needs_background": "light"
     },
     "output_type": "display_data"
    }
   ],
   "source": [
    "for i in range(len(xi)):\n",
    "    if kmeans.predict([[xi[i],yi[i]]]) == 0:\n",
    "        plt.scatter(xi[i],yi[i],color = 'black')\n",
    "    elif kmeans.predict([[xi[i],yi[i]]]) == 1:\n",
    "        plt.scatter(xi[i],yi[i],color = 'red')\n",
    "    \n",
    "    elif kmeans.predict([[xi[i],yi[i]]]) == 2:\n",
    "        plt.scatter(xi[i],yi[i],color = 'blue')\n",
    "        \n",
    "    elif kmeans.predict([[xi[i],yi[i]]]) == 3:\n",
    "        plt.scatter(xi[i],yi[i],color = 'green')\n",
    "    elif kmeans.predict([[xi[i],yi[i]]]) == 4:\n",
    "        \n",
    "        plt.scatter(xi[i],yi[i],color = 'orange')\n",
    "    elif kmeans.predict([[xi[i],yi[i]]]) == 5:\n",
    "        \n",
    "        plt.scatter(xi[i],yi[i],color = 'gray')\n",
    "    elif kmeans.predict([[xi[i],yi[i]]]) == 6:\n",
    "        \n",
    "        plt.scatter(xi[i],yi[i],color = 'gold')\n",
    "\n",
    "#plt.scatter(xi,yi,color = 'black')#'o', 'v', '^', '<', '>', '8', 's', 'p', '*', 'h', 'H', 'D', 'd', 'P', 'X'\n",
    "plt.scatter(c1,c2,color = 'purple', marker='*')\n",
    "plt.show()"
   ]
  },
  {
   "cell_type": "code",
   "execution_count": 9,
   "metadata": {},
   "outputs": [
    {
     "data": {
      "text/plain": [
       "array([[34.76110537,  8.71495467],\n",
       "       [47.5938571 , 36.50514046],\n",
       "       [22.63849886, 37.40271952],\n",
       "       [10.67856859, 16.00641162]])"
      ]
     },
     "execution_count": 9,
     "metadata": {},
     "output_type": "execute_result"
    }
   ],
   "source": [
    "kmeans.cluster_centers_"
   ]
  },
  {
   "cell_type": "code",
   "execution_count": null,
   "metadata": {},
   "outputs": [],
   "source": []
  }
 ],
 "metadata": {
  "kernelspec": {
   "display_name": "Python 3",
   "language": "python",
   "name": "python3"
  },
  "language_info": {
   "codemirror_mode": {
    "name": "ipython",
    "version": 3
   },
   "file_extension": ".py",
   "mimetype": "text/x-python",
   "name": "python",
   "nbconvert_exporter": "python",
   "pygments_lexer": "ipython3",
   "version": "3.7.2"
  }
 },
 "nbformat": 4,
 "nbformat_minor": 2
}
