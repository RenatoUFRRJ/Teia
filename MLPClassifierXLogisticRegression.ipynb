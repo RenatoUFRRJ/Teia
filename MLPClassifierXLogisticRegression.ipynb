{
 "cells": [
  {
   "cell_type": "markdown",
   "metadata": {},
   "source": [
    "# MLP Classifier x Logistic Regression"
   ]
  },
  {
   "cell_type": "code",
   "execution_count": 1,
   "metadata": {},
   "outputs": [],
   "source": [
    "from sklearn.neural_network import MLPClassifier\n",
    "from sklearn.linear_model import LogisticRegression\n",
    "from sklearn.datasets import load_digits\n",
    "from sklearn.metrics import accuracy_score\n",
    "from sklearn.metrics import confusion_matrix\n",
    "from sklearn.metrics import classification_report\n",
    "import matplotlib.pyplot as plt\n",
    "import numpy as np"
   ]
  },
  {
   "cell_type": "code",
   "execution_count": 2,
   "metadata": {},
   "outputs": [],
   "source": [
    "percent = 0.9 # porcentagem da divisao do dataset em treino e teste \n",
    "tolerancia = 0.000001 \n",
    "max_interacoes = 1000"
   ]
  },
  {
   "cell_type": "code",
   "execution_count": 3,
   "metadata": {},
   "outputs": [],
   "source": [
    "digits= load_digits()\n",
    "X, y = digits.data, digits.target\n",
    "n_samples = len(X)\n",
    "X_train = X[:int(percent * n_samples)]\n",
    "y_train = y[:int(percent * n_samples)]\n",
    "X_test = X[int(percent * n_samples):]\n",
    "y_test = y[int(percent * n_samples):]"
   ]
  },
  {
   "cell_type": "code",
   "execution_count": 4,
   "metadata": {},
   "outputs": [],
   "source": [
    "clf = MLPClassifier(hidden_layer_sizes=(100, ), activation='relu', solver='adam', alpha=0.01, \n",
    "                    batch_size='auto', learning_rate='constant', learning_rate_init=0.001, power_t=0.5,\n",
    "                    max_iter=max_interacoes, shuffle=True, random_state=None, tol=tolerancia, verbose=False, \n",
    "                    warm_start=False, momentum=0.9, nesterovs_momentum=True, early_stopping=False, \n",
    "                    validation_fraction=0.1, beta_1=0.9, beta_2=0.999, epsilon=1e-08, n_iter_no_change=10)\n",
    "\n",
    "clf2 = LogisticRegression(penalty='l2', dual=False, tol=tolerancia, C=1.0, fit_intercept=True, intercept_scaling=1, \n",
    "                          class_weight=None, random_state=None, solver='newton-cg', max_iter=max_interacoes, \n",
    "                          multi_class='multinomial', verbose=0, warm_start=False, n_jobs=None)"
   ]
  },
  {
   "cell_type": "code",
   "execution_count": 5,
   "metadata": {},
   "outputs": [
    {
     "data": {
      "text/plain": [
       "MLPClassifier(activation='relu', alpha=0.01, batch_size='auto', beta_1=0.9,\n",
       "       beta_2=0.999, early_stopping=False, epsilon=1e-08,\n",
       "       hidden_layer_sizes=(100,), learning_rate='constant',\n",
       "       learning_rate_init=0.001, max_iter=1000, momentum=0.9,\n",
       "       n_iter_no_change=10, nesterovs_momentum=True, power_t=0.5,\n",
       "       random_state=None, shuffle=True, solver='adam', tol=1e-06,\n",
       "       validation_fraction=0.1, verbose=False, warm_start=False)"
      ]
     },
     "execution_count": 5,
     "metadata": {},
     "output_type": "execute_result"
    }
   ],
   "source": [
    "clf.fit(X_train,y_train)"
   ]
  },
  {
   "cell_type": "code",
   "execution_count": 6,
   "metadata": {},
   "outputs": [
    {
     "data": {
      "text/plain": [
       "LogisticRegression(C=1.0, class_weight=None, dual=False, fit_intercept=True,\n",
       "          intercept_scaling=1, max_iter=1000, multi_class='multinomial',\n",
       "          n_jobs=None, penalty='l2', random_state=None, solver='newton-cg',\n",
       "          tol=1e-06, verbose=0, warm_start=False)"
      ]
     },
     "execution_count": 6,
     "metadata": {},
     "output_type": "execute_result"
    }
   ],
   "source": [
    "clf2.fit(X_train,y_train)"
   ]
  },
  {
   "cell_type": "code",
   "execution_count": 7,
   "metadata": {},
   "outputs": [
    {
     "name": "stdout",
     "output_type": "stream",
     "text": [
      "Acuracia MLP =  0.95     Acuracia Logistic Regression =  0.9388888888888889\n"
     ]
    }
   ],
   "source": [
    "print(\"Acuracia MLP = \", accuracy_score(clf.predict(X_test),y_test),\"    Acuracia Logistic Regression = \",\n",
    "accuracy_score(clf2.predict(X_test),y_test))"
   ]
  },
  {
   "cell_type": "code",
   "execution_count": 8,
   "metadata": {},
   "outputs": [
    {
     "data": {
      "text/plain": [
       "'\\nplt.figure(figsize=(10,5))\\nplt.plot(np.arange(1, clf.n_iter_+1), clf.loss_curve_, color=\\'green\\')\\nplt.title(\"MLP Classifier\")\\nplt.ylabel(\"loss\")\\nplt.xlabel(\"Iteration\")\\nplt.show()\\n'"
      ]
     },
     "execution_count": 8,
     "metadata": {},
     "output_type": "execute_result"
    }
   ],
   "source": [
    "'''\n",
    "plt.figure(figsize=(10,5))\n",
    "plt.plot(np.arange(1, clf.n_iter_+1), clf.loss_curve_, color='green')\n",
    "plt.title(\"MLP Classifier\")\n",
    "plt.ylabel(\"loss\")\n",
    "plt.xlabel(\"Iteration\")\n",
    "plt.show()\n",
    "'''"
   ]
  },
  {
   "cell_type": "code",
   "execution_count": 9,
   "metadata": {},
   "outputs": [
    {
     "name": "stdout",
     "output_type": "stream",
     "text": [
      "\tMLP Classifier  Interacoes = 885 Tol = 1e-06 \n",
      "--------------------------------------------------------\n",
      "               precision    recall  f1-score   support\n",
      "\n",
      "     class 0       1.00      1.00      1.00        16\n",
      "     class 1       1.00      1.00      1.00        19\n",
      "     class 2       1.00      1.00      1.00        17\n",
      "     class 3       1.00      0.72      0.84        18\n",
      "     class 4       1.00      0.95      0.97        20\n",
      "     class 5       0.82      1.00      0.90        18\n",
      "     class 6       1.00      1.00      1.00        18\n",
      "     class 7       0.95      1.00      0.97        19\n",
      "     class 8       0.84      0.94      0.89        17\n",
      "     class 9       0.94      0.89      0.91        18\n",
      "\n",
      "   micro avg       0.95      0.95      0.95       180\n",
      "   macro avg       0.96      0.95      0.95       180\n",
      "weighted avg       0.96      0.95      0.95       180\n",
      "\n"
     ]
    }
   ],
   "source": [
    "target_names = ['class 0', 'class 1', 'class 2','class 3','class 4',\n",
    "                'class 5','class 6','class 7','class 8','class 9']\n",
    "print(\"\\tMLP Classifier \",\"Interacoes =\",clf.n_iter_,\"Tol =\",clf.tol ,\"\\n--------------------------------------------------------\\n\",\n",
    "      classification_report(y_test, clf.predict(X_test), target_names=target_names))"
   ]
  },
  {
   "cell_type": "code",
   "execution_count": 10,
   "metadata": {},
   "outputs": [
    {
     "name": "stdout",
     "output_type": "stream",
     "text": [
      "\tLogistic Regression  Interacoes( newton-cg )= [38] Tol = 1e-06 \n",
      "-------------------------------------------------------------\n",
      "               precision    recall  f1-score   support\n",
      "\n",
      "     class 0       1.00      1.00      1.00        16\n",
      "     class 1       1.00      0.95      0.97        19\n",
      "     class 2       1.00      1.00      1.00        17\n",
      "     class 3       1.00      0.61      0.76        18\n",
      "     class 4       0.95      0.90      0.92        20\n",
      "     class 5       0.90      1.00      0.95        18\n",
      "     class 6       1.00      1.00      1.00        18\n",
      "     class 7       1.00      1.00      1.00        19\n",
      "     class 8       0.74      1.00      0.85        17\n",
      "     class 9       0.89      0.94      0.92        18\n",
      "\n",
      "   micro avg       0.94      0.94      0.94       180\n",
      "   macro avg       0.95      0.94      0.94       180\n",
      "weighted avg       0.95      0.94      0.94       180\n",
      "\n"
     ]
    }
   ],
   "source": [
    "target_names = ['class 0', 'class 1', 'class 2','class 3','class 4',\n",
    "                'class 5','class 6','class 7','class 8','class 9']\n",
    "print(\"\\tLogistic Regression \",\"Interacoes(\",clf2.solver,\")=\",clf2.n_iter_,\"Tol =\",clf2.tol ,\"\\n-------------------------------------------------------------\\n\",\n",
    "      classification_report(y_test, clf2.predict(X_test), target_names=target_names))"
   ]
  },
  {
   "cell_type": "code",
   "execution_count": null,
   "metadata": {},
   "outputs": [],
   "source": []
  },
  {
   "cell_type": "code",
   "execution_count": null,
   "metadata": {},
   "outputs": [],
   "source": []
  },
  {
   "cell_type": "code",
   "execution_count": null,
   "metadata": {},
   "outputs": [],
   "source": []
  },
  {
   "cell_type": "code",
   "execution_count": null,
   "metadata": {},
   "outputs": [],
   "source": []
  }
 ],
 "metadata": {
  "kernelspec": {
   "display_name": "Python 3",
   "language": "python",
   "name": "python3"
  },
  "language_info": {
   "codemirror_mode": {
    "name": "ipython",
    "version": 3
   },
   "file_extension": ".py",
   "mimetype": "text/x-python",
   "name": "python",
   "nbconvert_exporter": "python",
   "pygments_lexer": "ipython3",
   "version": "3.7.2"
  }
 },
 "nbformat": 4,
 "nbformat_minor": 2
}
