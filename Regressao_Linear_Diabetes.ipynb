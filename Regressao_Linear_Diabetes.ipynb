{
 "cells": [
  {
   "cell_type": "markdown",
   "metadata": {},
   "source": [
    "# Regressao Linear"
   ]
  },
  {
   "cell_type": "code",
   "execution_count": 1,
   "metadata": {},
   "outputs": [],
   "source": [
    "from sklearn.base import BaseEstimator\n",
    "import matplotlib.pyplot as plt\n",
    "import numpy as np\n",
    "\n",
    "from sklearn import datasets"
   ]
  },
  {
   "cell_type": "code",
   "execution_count": 2,
   "metadata": {},
   "outputs": [],
   "source": [
    "# Load the diabetes dataset\n",
    "diabetes = datasets.load_diabetes()\n",
    "\n",
    "\n",
    "# Use only one feature\n",
    "diabetes_X = diabetes.data[:, np.newaxis, 2]\n",
    "\n",
    "# Split the data into training/testing sets\n",
    "diabetes_X_train = diabetes_X[:-20]\n",
    "diabetes_X_test = diabetes_X[-20:]\n",
    "\n",
    "# Split the targets into training/testing sets\n",
    "diabetes_y_train = diabetes.target[:-20]\n",
    "diabetes_y_test = diabetes.target[-20:]\n",
    "\n",
    "\n",
    "\n",
    "x1 = []\n",
    "x2 = []\n",
    "for i in (diabetes_X_train):\n",
    "    x1.append([1,i[0]])\n",
    "   \n",
    "\n",
    "for i in (diabetes_X_test):\n",
    "    x2.append([1,i[0]])\n",
    "    \n",
    "    \n",
    "diabetes_X_train = x1\n",
    "diabetes_X_test = x2\n"
   ]
  },
  {
   "cell_type": "code",
   "execution_count": 3,
   "metadata": {},
   "outputs": [],
   "source": [
    "class LMSTrainer(BaseEstimator):\n",
    "    \n",
    "    \n",
    "    def __init__(self, analitic=False):\n",
    "            \n",
    "            self.analitic = analitic\n",
    "            self._trained = False\n",
    "            self.a = 0.\n",
    "            self.b = 0.\n",
    "            \n",
    "            self.coef_ = [0.,0.]\n",
    "            self.erro_medio_q = []\n",
    "            self.n_inter = 0\n",
    "            \n",
    "    def fit(self, X, y=None,max_interacao = 100000,alfa = 0.0001,tolerancia = 0.0001):\n",
    "        \n",
    "        \n",
    "        if self.analitic:\n",
    "            \n",
    "          # TODO: FAZER POR MATRIZES\n",
    "            pass\n",
    "        else:\n",
    "           \n",
    "          # TODO: FAZERPELO GRADIENTE DESCENDETE \n",
    "            teta1 = 0.\n",
    "            teta0 = 0.\n",
    "          \n",
    "            erro = 0. # acc erro\n",
    "            erro_mq = 0. # erro medio quadratico\n",
    "            derivada1 = 0.\n",
    "            derivada0 = 0.\n",
    "            erro_mq_antes = 0.\n",
    "            for _ in range(max_interacao):\n",
    "                \n",
    "                erro = 0.\n",
    "                for xi,yi in zip(X,y):\n",
    "                    erro += ((xi[1]*teta1 +teta0) - yi)**2\n",
    "                    \n",
    "                    \n",
    "                erro_mq = ( 1 / (2*len(y)) )* erro\n",
    "                self.erro_medio_q.append(  erro_mq)\n",
    "                for xi,yi in zip(X,y):\n",
    "                    derivada1 = ((xi[1]*teta1 +teta0) - yi) * xi[1]\n",
    "                    derivada0 = ((xi[1]*teta1 +teta0) - yi)\n",
    "                    \n",
    "                    teta1 = teta1 - (alfa/len(y))*derivada1\n",
    "                    teta0 = teta0 - (alfa/len(y))*derivada0\n",
    "                   # print(teta0)\n",
    "                  \n",
    "                self.n_inter += 1\n",
    "                if abs(erro_mq - erro_mq_antes) < tolerancia:\n",
    "                    \n",
    "                    break\n",
    "                erro_mq_antes = erro_mq\n",
    "                \n",
    "                \n",
    "                \n",
    "            pass\n",
    "    \n",
    "        self._trained = True\n",
    "        \n",
    "        self.a = teta1\n",
    "        self.b = teta0\n",
    "        self.coef_[0] = teta0\n",
    "        self.coef_[1] = teta1\n",
    "        \n",
    "        return self\n",
    "        \n",
    "    def predict(self, X, y=None):\n",
    "        \n",
    "        saida = []\n",
    "        \n",
    "        if not self._trained:\n",
    "           raise RuntimeError(\"You must train classifer before predicting data!\")\n",
    "        \n",
    "        for xi in (X):\n",
    "            saida.append(self.a*xi[1] + self.b)\n",
    "    \n",
    "        return saida# resultado"
   ]
  },
  {
   "cell_type": "code",
   "execution_count": null,
   "metadata": {},
   "outputs": [],
   "source": [
    "'''\n",
    "X_train = [[1,1],[1,2],[1,3],[1,4],[1,5],[1,6],[1,7],[1,8],[1,9],[1,10]]\n",
    "#y_train = [-1,-3,-5,-7,-9,-11,-13,-15,-17,-19]\n",
    "y_train = [2,3.3+1,6.7,8.9,10,11+1.1,14,15.5+2,17.1,19.5]\n",
    "X_test  = [[1,1],[1,2],[1,3],[1,4],[1,5],[1,6],[1,7],[1,8],[1,9],[1,10]]\n",
    "y_test  = y_train # [2,4,6,8,10,12,14,16,18,20]\n",
    "'''\n",
    "trainer = LMSTrainer()\n",
    "predictor = trainer.fit(diabetes_X_train,diabetes_y_train,50000,0.75,0.0000001)\n",
    "\n",
    "trainer.coef_"
   ]
  },
  {
   "cell_type": "code",
   "execution_count": null,
   "metadata": {},
   "outputs": [],
   "source": [
    "#X_test = [[1,22],[0,38],[1,14],[1,22],[0,0],[1,55],[1,49],[1,29],[1,33]]\n",
    "y_pred = predictor.predict(diabetes_X_test)\n",
    "xi = []\n",
    "for i in (diabetes_X_test):\n",
    "    xi.append(i[1])\n"
   ]
  },
  {
   "cell_type": "code",
   "execution_count": null,
   "metadata": {},
   "outputs": [],
   "source": [
    "# The coefficients\n",
    "'''\n",
    "print('Coefficients: \\n', trainer.coef_)\n",
    "plt.figure(figsize=(10,5))\n",
    "plt.scatter(xi,y_train,  color='black')\n",
    "plt.plot(xi, y_pred, color='blue', linewidth=3)\n",
    "\n",
    "plt.xticks((xi))\n",
    "plt.yticks((y_train))\n",
    "\n",
    "plt.show()'''"
   ]
  },
  {
   "cell_type": "code",
   "execution_count": 176,
   "metadata": {},
   "outputs": [],
   "source": [
    "aux = diabetes_X_test\n",
    "diabetes_X_test = xi\n"
   ]
  },
  {
   "cell_type": "code",
   "execution_count": 177,
   "metadata": {},
   "outputs": [
    {
     "name": "stdout",
     "output_type": "stream",
     "text": [
      "Coefficients: \n",
      " [153.6605690010081, 937.45454987503081]\n"
     ]
    },
    {
     "data": {
      "image/png": "[encoded data removed]",
      "text/plain": [
       "<matplotlib.figure.Figure at 0x7f1d668af588>"
      ]
     },
     "metadata": {},
     "output_type": "display_data"
    }
   ],
   "source": [
    "print('Coefficients: \\n', trainer.coef_)\n",
    "#plt.figure(figsize=(10,5))\n",
    "plt.scatter(diabetes_X_test, diabetes_y_test,  color='black')\n",
    "plt.plot(diabetes_X_test, y_pred, color='blue', linewidth=3)\n",
    "\n",
    "plt.xticks(())\n",
    "plt.yticks(())\n",
    "\n",
    "plt.show()\n",
    "diabetes_X_test = aux"
   ]
  },
  {
   "cell_type": "code",
   "execution_count": 178,
   "metadata": {},
   "outputs": [
    {
     "data": {
      "image/png": "[encoded data removed]",
      "text/plain": [
       "<matplotlib.figure.Figure at 0x7f1d6681e550>"
      ]
     },
     "metadata": {},
     "output_type": "display_data"
    }
   ],
   "source": [
    "plt.figure(figsize=(10,5))\n",
    "plt.plot(np.arange(1, trainer.n_inter+1), trainer.erro_medio_q, color='green')\n",
    "plt.title(\"Gradient descendent\")\n",
    "plt.ylabel(\"MSE\")\n",
    "plt.xlabel(\"Iteration\")\n",
    "plt.show()"
   ]
  },
  {
   "cell_type": "code",
   "execution_count": null,
   "metadata": {},
   "outputs": [],
   "source": []
  }
 ],
 "metadata": {
  "kernelspec": {
   "display_name": "Python 3",
   "language": "python",
   "name": "python3"
  },
  "language_info": {
   "codemirror_mode": {
    "name": "ipython",
    "version": 3
   },
   "file_extension": ".py",
   "mimetype": "text/x-python",
   "name": "python",
   "nbconvert_exporter": "python",
   "pygments_lexer": "ipython3",
   "version": "3.7.2"
  }
 },
 "nbformat": 4,
 "nbformat_minor": 2
}
